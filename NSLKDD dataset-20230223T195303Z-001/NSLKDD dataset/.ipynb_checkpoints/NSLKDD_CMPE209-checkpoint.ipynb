{
 "cells": [
  {
   "cell_type": "code",
   "execution_count": 1,
   "id": "943afd82-77c3-4ee7-9663-16bf32fab6b0",
   "metadata": {
    "executionInfo": {
     "elapsed": 364,
     "status": "ok",
     "timestamp": 1678487430494,
     "user": {
      "displayName": "Venkata Sai Sri Batchu",
      "userId": "01018547047748441378"
     },
     "user_tz": 480
    },
    "id": "943afd82-77c3-4ee7-9663-16bf32fab6b0",
    "tags": []
   },
   "outputs": [],
   "source": [
    "import math\n",
    "import numpy as np\n",
    "import matplotlib.pyplot as plt\n",
    "import pandas as pd\n",
    "\n",
    "import sklearn.preprocessing\n",
    "from sklearn.ensemble import RandomForestClassifier\n",
    "from sklearn.metrics import accuracy_score"
   ]
  },
  {
   "cell_type": "code",
   "execution_count": 2,
   "id": "d639b6e9-9a1f-4665-bcd6-a3155196dfe3",
   "metadata": {
    "executionInfo": {
     "elapsed": 20,
     "status": "ok",
     "timestamp": 1678487431109,
     "user": {
      "displayName": "Venkata Sai Sri Batchu",
      "userId": "01018547047748441378"
     },
     "user_tz": 480
    },
    "id": "d639b6e9-9a1f-4665-bcd6-a3155196dfe3",
    "tags": []
   },
   "outputs": [],
   "source": [
    "train_data = pd.read_csv('Train_data.csv')\n",
    "test_data = pd.read_csv('Test_data.csv')"
   ]
  },
  {
   "cell_type": "code",
   "execution_count": 3,
   "id": "12737b74-4149-4534-a7d8-3cf5526d0e7b",
   "metadata": {
    "colab": {
     "base_uri": "https://localhost:8080/"
    },
    "executionInfo": {
     "elapsed": 19,
     "status": "ok",
     "timestamp": 1678487431109,
     "user": {
      "displayName": "Venkata Sai Sri Batchu",
      "userId": "01018547047748441378"
     },
     "user_tz": 480
    },
    "id": "12737b74-4149-4534-a7d8-3cf5526d0e7b",
    "outputId": "43536bf4-7866-4cfa-d7c5-b8144cb1f8b2",
    "tags": []
   },
   "outputs": [
    {
     "name": "stdout",
     "output_type": "stream",
     "text": [
      "(25192, 42)\n"
     ]
    }
   ],
   "source": [
    "train_data_df = pd.DataFrame(train_data)\n",
    "print(train_data_df.shape)"
   ]
  },
  {
   "cell_type": "code",
   "execution_count": 4,
   "id": "16d9a96a-ac42-47e1-bd51-dc2684c4fe4f",
   "metadata": {
    "tags": []
   },
   "outputs": [
    {
     "name": "stdout",
     "output_type": "stream",
     "text": [
      "(22544, 41)\n"
     ]
    }
   ],
   "source": [
    "test_data_df = pd.DataFrame(test_data)\n",
    "print(test_data_df.shape)"
   ]
  },
  {
   "cell_type": "code",
   "execution_count": 5,
   "id": "e1139ffb-30e0-4bad-af4e-79fc5a6e3226",
   "metadata": {
    "tags": []
   },
   "outputs": [
    {
     "data": {
      "text/plain": [
       "{'class'}"
      ]
     },
     "execution_count": 5,
     "metadata": {},
     "output_type": "execute_result"
    }
   ],
   "source": [
    "set(train_data_df).difference(set(test_data_df))"
   ]
  },
  {
   "cell_type": "code",
   "execution_count": 502,
   "id": "uptbtkyJT8PZ",
   "metadata": {
    "colab": {
     "base_uri": "https://localhost:8080/"
    },
    "executionInfo": {
     "elapsed": 17,
     "status": "ok",
     "timestamp": 1678487431110,
     "user": {
      "displayName": "Venkata Sai Sri Batchu",
      "userId": "01018547047748441378"
     },
     "user_tz": 480
    },
    "id": "uptbtkyJT8PZ",
    "outputId": "944e91b9-ef60-4f13-a679-06000b8c537d"
   },
   "outputs": [
    {
     "data": {
      "text/plain": [
       "Index(['duration', 'protocol_type', 'service', 'flag', 'src_bytes',\n",
       "       'dst_bytes', 'land', 'wrong_fragment', 'urgent', 'hot',\n",
       "       'num_failed_logins', 'logged_in', 'num_compromised', 'root_shell',\n",
       "       'su_attempted', 'num_root', 'num_file_creations', 'num_shells',\n",
       "       'num_access_files', 'num_outbound_cmds', 'is_host_login',\n",
       "       'is_guest_login', 'count', 'srv_count', 'serror_rate',\n",
       "       'srv_serror_rate', 'rerror_rate', 'srv_rerror_rate', 'same_srv_rate',\n",
       "       'diff_srv_rate', 'srv_diff_host_rate', 'dst_host_count',\n",
       "       'dst_host_srv_count', 'dst_host_same_srv_rate',\n",
       "       'dst_host_diff_srv_rate', 'dst_host_same_src_port_rate',\n",
       "       'dst_host_srv_diff_host_rate', 'dst_host_serror_rate',\n",
       "       'dst_host_srv_serror_rate', 'dst_host_rerror_rate',\n",
       "       'dst_host_srv_rerror_rate', 'class'],\n",
       "      dtype='object')"
      ]
     },
     "execution_count": 502,
     "metadata": {},
     "output_type": "execute_result"
    }
   ],
   "source": [
    "train_data_df.columns"
   ]
  },
  {
   "cell_type": "code",
   "execution_count": 503,
   "id": "8RIhzIATIzVo",
   "metadata": {
    "colab": {
     "base_uri": "https://localhost:8080/",
     "height": 488
    },
    "executionInfo": {
     "elapsed": 14,
     "status": "ok",
     "timestamp": 1678487431110,
     "user": {
      "displayName": "Venkata Sai Sri Batchu",
      "userId": "01018547047748441378"
     },
     "user_tz": 480
    },
    "id": "8RIhzIATIzVo",
    "outputId": "85dd5baa-03bb-40c8-eb28-4e23823b6460"
   },
   "outputs": [
    {
     "data": {
      "text/html": [
       "\n",
       "  <div id=\"df-6e5e3d43-866d-4555-ba6c-cce7fa93bf74\">\n",
       "    <div class=\"colab-df-container\">\n",
       "      <div>\n",
       "<style scoped>\n",
       "    .dataframe tbody tr th:only-of-type {\n",
       "        vertical-align: middle;\n",
       "    }\n",
       "\n",
       "    .dataframe tbody tr th {\n",
       "        vertical-align: top;\n",
       "    }\n",
       "\n",
       "    .dataframe thead th {\n",
       "        text-align: right;\n",
       "    }\n",
       "</style>\n",
       "<table border=\"1\" class=\"dataframe\">\n",
       "  <thead>\n",
       "    <tr style=\"text-align: right;\">\n",
       "      <th></th>\n",
       "      <th>duration</th>\n",
       "      <th>protocol_type</th>\n",
       "      <th>service</th>\n",
       "      <th>flag</th>\n",
       "      <th>src_bytes</th>\n",
       "      <th>dst_bytes</th>\n",
       "      <th>land</th>\n",
       "      <th>wrong_fragment</th>\n",
       "      <th>urgent</th>\n",
       "      <th>hot</th>\n",
       "      <th>...</th>\n",
       "      <th>dst_host_srv_count</th>\n",
       "      <th>dst_host_same_srv_rate</th>\n",
       "      <th>dst_host_diff_srv_rate</th>\n",
       "      <th>dst_host_same_src_port_rate</th>\n",
       "      <th>dst_host_srv_diff_host_rate</th>\n",
       "      <th>dst_host_serror_rate</th>\n",
       "      <th>dst_host_srv_serror_rate</th>\n",
       "      <th>dst_host_rerror_rate</th>\n",
       "      <th>dst_host_srv_rerror_rate</th>\n",
       "      <th>class</th>\n",
       "    </tr>\n",
       "  </thead>\n",
       "  <tbody>\n",
       "    <tr>\n",
       "      <th>0</th>\n",
       "      <td>0</td>\n",
       "      <td>tcp</td>\n",
       "      <td>ftp_data</td>\n",
       "      <td>SF</td>\n",
       "      <td>491</td>\n",
       "      <td>0</td>\n",
       "      <td>0</td>\n",
       "      <td>0</td>\n",
       "      <td>0</td>\n",
       "      <td>0</td>\n",
       "      <td>...</td>\n",
       "      <td>25</td>\n",
       "      <td>0.17</td>\n",
       "      <td>0.03</td>\n",
       "      <td>0.17</td>\n",
       "      <td>0.00</td>\n",
       "      <td>0.00</td>\n",
       "      <td>0.00</td>\n",
       "      <td>0.05</td>\n",
       "      <td>0.00</td>\n",
       "      <td>normal</td>\n",
       "    </tr>\n",
       "    <tr>\n",
       "      <th>1</th>\n",
       "      <td>0</td>\n",
       "      <td>udp</td>\n",
       "      <td>other</td>\n",
       "      <td>SF</td>\n",
       "      <td>146</td>\n",
       "      <td>0</td>\n",
       "      <td>0</td>\n",
       "      <td>0</td>\n",
       "      <td>0</td>\n",
       "      <td>0</td>\n",
       "      <td>...</td>\n",
       "      <td>1</td>\n",
       "      <td>0.00</td>\n",
       "      <td>0.60</td>\n",
       "      <td>0.88</td>\n",
       "      <td>0.00</td>\n",
       "      <td>0.00</td>\n",
       "      <td>0.00</td>\n",
       "      <td>0.00</td>\n",
       "      <td>0.00</td>\n",
       "      <td>normal</td>\n",
       "    </tr>\n",
       "    <tr>\n",
       "      <th>2</th>\n",
       "      <td>0</td>\n",
       "      <td>tcp</td>\n",
       "      <td>private</td>\n",
       "      <td>S0</td>\n",
       "      <td>0</td>\n",
       "      <td>0</td>\n",
       "      <td>0</td>\n",
       "      <td>0</td>\n",
       "      <td>0</td>\n",
       "      <td>0</td>\n",
       "      <td>...</td>\n",
       "      <td>26</td>\n",
       "      <td>0.10</td>\n",
       "      <td>0.05</td>\n",
       "      <td>0.00</td>\n",
       "      <td>0.00</td>\n",
       "      <td>1.00</td>\n",
       "      <td>1.00</td>\n",
       "      <td>0.00</td>\n",
       "      <td>0.00</td>\n",
       "      <td>anomaly</td>\n",
       "    </tr>\n",
       "    <tr>\n",
       "      <th>3</th>\n",
       "      <td>0</td>\n",
       "      <td>tcp</td>\n",
       "      <td>http</td>\n",
       "      <td>SF</td>\n",
       "      <td>232</td>\n",
       "      <td>8153</td>\n",
       "      <td>0</td>\n",
       "      <td>0</td>\n",
       "      <td>0</td>\n",
       "      <td>0</td>\n",
       "      <td>...</td>\n",
       "      <td>255</td>\n",
       "      <td>1.00</td>\n",
       "      <td>0.00</td>\n",
       "      <td>0.03</td>\n",
       "      <td>0.04</td>\n",
       "      <td>0.03</td>\n",
       "      <td>0.01</td>\n",
       "      <td>0.00</td>\n",
       "      <td>0.01</td>\n",
       "      <td>normal</td>\n",
       "    </tr>\n",
       "    <tr>\n",
       "      <th>4</th>\n",
       "      <td>0</td>\n",
       "      <td>tcp</td>\n",
       "      <td>http</td>\n",
       "      <td>SF</td>\n",
       "      <td>199</td>\n",
       "      <td>420</td>\n",
       "      <td>0</td>\n",
       "      <td>0</td>\n",
       "      <td>0</td>\n",
       "      <td>0</td>\n",
       "      <td>...</td>\n",
       "      <td>255</td>\n",
       "      <td>1.00</td>\n",
       "      <td>0.00</td>\n",
       "      <td>0.00</td>\n",
       "      <td>0.00</td>\n",
       "      <td>0.00</td>\n",
       "      <td>0.00</td>\n",
       "      <td>0.00</td>\n",
       "      <td>0.00</td>\n",
       "      <td>normal</td>\n",
       "    </tr>\n",
       "    <tr>\n",
       "      <th>...</th>\n",
       "      <td>...</td>\n",
       "      <td>...</td>\n",
       "      <td>...</td>\n",
       "      <td>...</td>\n",
       "      <td>...</td>\n",
       "      <td>...</td>\n",
       "      <td>...</td>\n",
       "      <td>...</td>\n",
       "      <td>...</td>\n",
       "      <td>...</td>\n",
       "      <td>...</td>\n",
       "      <td>...</td>\n",
       "      <td>...</td>\n",
       "      <td>...</td>\n",
       "      <td>...</td>\n",
       "      <td>...</td>\n",
       "      <td>...</td>\n",
       "      <td>...</td>\n",
       "      <td>...</td>\n",
       "      <td>...</td>\n",
       "      <td>...</td>\n",
       "    </tr>\n",
       "    <tr>\n",
       "      <th>25187</th>\n",
       "      <td>0</td>\n",
       "      <td>tcp</td>\n",
       "      <td>exec</td>\n",
       "      <td>RSTO</td>\n",
       "      <td>0</td>\n",
       "      <td>0</td>\n",
       "      <td>0</td>\n",
       "      <td>0</td>\n",
       "      <td>0</td>\n",
       "      <td>0</td>\n",
       "      <td>...</td>\n",
       "      <td>7</td>\n",
       "      <td>0.03</td>\n",
       "      <td>0.06</td>\n",
       "      <td>0.00</td>\n",
       "      <td>0.00</td>\n",
       "      <td>0.00</td>\n",
       "      <td>0.00</td>\n",
       "      <td>1.00</td>\n",
       "      <td>1.00</td>\n",
       "      <td>anomaly</td>\n",
       "    </tr>\n",
       "    <tr>\n",
       "      <th>25188</th>\n",
       "      <td>0</td>\n",
       "      <td>tcp</td>\n",
       "      <td>ftp_data</td>\n",
       "      <td>SF</td>\n",
       "      <td>334</td>\n",
       "      <td>0</td>\n",
       "      <td>0</td>\n",
       "      <td>0</td>\n",
       "      <td>0</td>\n",
       "      <td>0</td>\n",
       "      <td>...</td>\n",
       "      <td>39</td>\n",
       "      <td>1.00</td>\n",
       "      <td>0.00</td>\n",
       "      <td>1.00</td>\n",
       "      <td>0.18</td>\n",
       "      <td>0.00</td>\n",
       "      <td>0.00</td>\n",
       "      <td>0.00</td>\n",
       "      <td>0.00</td>\n",
       "      <td>anomaly</td>\n",
       "    </tr>\n",
       "    <tr>\n",
       "      <th>25189</th>\n",
       "      <td>0</td>\n",
       "      <td>tcp</td>\n",
       "      <td>private</td>\n",
       "      <td>REJ</td>\n",
       "      <td>0</td>\n",
       "      <td>0</td>\n",
       "      <td>0</td>\n",
       "      <td>0</td>\n",
       "      <td>0</td>\n",
       "      <td>0</td>\n",
       "      <td>...</td>\n",
       "      <td>13</td>\n",
       "      <td>0.05</td>\n",
       "      <td>0.07</td>\n",
       "      <td>0.00</td>\n",
       "      <td>0.00</td>\n",
       "      <td>0.00</td>\n",
       "      <td>0.00</td>\n",
       "      <td>1.00</td>\n",
       "      <td>1.00</td>\n",
       "      <td>anomaly</td>\n",
       "    </tr>\n",
       "    <tr>\n",
       "      <th>25190</th>\n",
       "      <td>0</td>\n",
       "      <td>tcp</td>\n",
       "      <td>nnsp</td>\n",
       "      <td>S0</td>\n",
       "      <td>0</td>\n",
       "      <td>0</td>\n",
       "      <td>0</td>\n",
       "      <td>0</td>\n",
       "      <td>0</td>\n",
       "      <td>0</td>\n",
       "      <td>...</td>\n",
       "      <td>20</td>\n",
       "      <td>0.08</td>\n",
       "      <td>0.06</td>\n",
       "      <td>0.00</td>\n",
       "      <td>0.00</td>\n",
       "      <td>1.00</td>\n",
       "      <td>1.00</td>\n",
       "      <td>0.00</td>\n",
       "      <td>0.00</td>\n",
       "      <td>anomaly</td>\n",
       "    </tr>\n",
       "    <tr>\n",
       "      <th>25191</th>\n",
       "      <td>0</td>\n",
       "      <td>tcp</td>\n",
       "      <td>finger</td>\n",
       "      <td>S0</td>\n",
       "      <td>0</td>\n",
       "      <td>0</td>\n",
       "      <td>0</td>\n",
       "      <td>0</td>\n",
       "      <td>0</td>\n",
       "      <td>0</td>\n",
       "      <td>...</td>\n",
       "      <td>49</td>\n",
       "      <td>0.19</td>\n",
       "      <td>0.03</td>\n",
       "      <td>0.01</td>\n",
       "      <td>0.00</td>\n",
       "      <td>1.00</td>\n",
       "      <td>1.00</td>\n",
       "      <td>0.00</td>\n",
       "      <td>0.00</td>\n",
       "      <td>anomaly</td>\n",
       "    </tr>\n",
       "  </tbody>\n",
       "</table>\n",
       "<p>25192 rows × 42 columns</p>\n",
       "</div>\n",
       "      <button class=\"colab-df-convert\" onclick=\"convertToInteractive('df-6e5e3d43-866d-4555-ba6c-cce7fa93bf74')\"\n",
       "              title=\"Convert this dataframe to an interactive table.\"\n",
       "              style=\"display:none;\">\n",
       "        \n",
       "  <svg xmlns=\"http://www.w3.org/2000/svg\" height=\"24px\"viewBox=\"0 0 24 24\"\n",
       "       width=\"24px\">\n",
       "    <path d=\"M0 0h24v24H0V0z\" fill=\"none\"/>\n",
       "    <path d=\"M18.56 5.44l.94 2.06.94-2.06 2.06-.94-2.06-.94-.94-2.06-.94 2.06-2.06.94zm-11 1L8.5 8.5l.94-2.06 2.06-.94-2.06-.94L8.5 2.5l-.94 2.06-2.06.94zm10 10l.94 2.06.94-2.06 2.06-.94-2.06-.94-.94-2.06-.94 2.06-2.06.94z\"/><path d=\"M17.41 7.96l-1.37-1.37c-.4-.4-.92-.59-1.43-.59-.52 0-1.04.2-1.43.59L10.3 9.45l-7.72 7.72c-.78.78-.78 2.05 0 2.83L4 21.41c.39.39.9.59 1.41.59.51 0 1.02-.2 1.41-.59l7.78-7.78 2.81-2.81c.8-.78.8-2.07 0-2.86zM5.41 20L4 18.59l7.72-7.72 1.47 1.35L5.41 20z\"/>\n",
       "  </svg>\n",
       "      </button>\n",
       "      \n",
       "  <style>\n",
       "    .colab-df-container {\n",
       "      display:flex;\n",
       "      flex-wrap:wrap;\n",
       "      gap: 12px;\n",
       "    }\n",
       "\n",
       "    .colab-df-convert {\n",
       "      background-color: #E8F0FE;\n",
       "      border: none;\n",
       "      border-radius: 50%;\n",
       "      cursor: pointer;\n",
       "      display: none;\n",
       "      fill: #1967D2;\n",
       "      height: 32px;\n",
       "      padding: 0 0 0 0;\n",
       "      width: 32px;\n",
       "    }\n",
       "\n",
       "    .colab-df-convert:hover {\n",
       "      background-color: #E2EBFA;\n",
       "      box-shadow: 0px 1px 2px rgba(60, 64, 67, 0.3), 0px 1px 3px 1px rgba(60, 64, 67, 0.15);\n",
       "      fill: #174EA6;\n",
       "    }\n",
       "\n",
       "    [theme=dark] .colab-df-convert {\n",
       "      background-color: #3B4455;\n",
       "      fill: #D2E3FC;\n",
       "    }\n",
       "\n",
       "    [theme=dark] .colab-df-convert:hover {\n",
       "      background-color: #434B5C;\n",
       "      box-shadow: 0px 1px 3px 1px rgba(0, 0, 0, 0.15);\n",
       "      filter: drop-shadow(0px 1px 2px rgba(0, 0, 0, 0.3));\n",
       "      fill: #FFFFFF;\n",
       "    }\n",
       "  </style>\n",
       "\n",
       "      <script>\n",
       "        const buttonEl =\n",
       "          document.querySelector('#df-6e5e3d43-866d-4555-ba6c-cce7fa93bf74 button.colab-df-convert');\n",
       "        buttonEl.style.display =\n",
       "          google.colab.kernel.accessAllowed ? 'block' : 'none';\n",
       "\n",
       "        async function convertToInteractive(key) {\n",
       "          const element = document.querySelector('#df-6e5e3d43-866d-4555-ba6c-cce7fa93bf74');\n",
       "          const dataTable =\n",
       "            await google.colab.kernel.invokeFunction('convertToInteractive',\n",
       "                                                     [key], {});\n",
       "          if (!dataTable) return;\n",
       "\n",
       "          const docLinkHtml = 'Like what you see? Visit the ' +\n",
       "            '<a target=\"_blank\" href=https://colab.research.google.com/notebooks/data_table.ipynb>data table notebook</a>'\n",
       "            + ' to learn more about interactive tables.';\n",
       "          element.innerHTML = '';\n",
       "          dataTable['output_type'] = 'display_data';\n",
       "          await google.colab.output.renderOutput(dataTable, element);\n",
       "          const docLink = document.createElement('div');\n",
       "          docLink.innerHTML = docLinkHtml;\n",
       "          element.appendChild(docLink);\n",
       "        }\n",
       "      </script>\n",
       "    </div>\n",
       "  </div>\n",
       "  "
      ],
      "text/plain": [
       "       duration protocol_type   service  flag  src_bytes  dst_bytes  land  \\\n",
       "0             0           tcp  ftp_data    SF        491          0     0   \n",
       "1             0           udp     other    SF        146          0     0   \n",
       "2             0           tcp   private    S0          0          0     0   \n",
       "3             0           tcp      http    SF        232       8153     0   \n",
       "4             0           tcp      http    SF        199        420     0   \n",
       "...         ...           ...       ...   ...        ...        ...   ...   \n",
       "25187         0           tcp      exec  RSTO          0          0     0   \n",
       "25188         0           tcp  ftp_data    SF        334          0     0   \n",
       "25189         0           tcp   private   REJ          0          0     0   \n",
       "25190         0           tcp      nnsp    S0          0          0     0   \n",
       "25191         0           tcp    finger    S0          0          0     0   \n",
       "\n",
       "       wrong_fragment  urgent  hot  ...  dst_host_srv_count  \\\n",
       "0                   0       0    0  ...                  25   \n",
       "1                   0       0    0  ...                   1   \n",
       "2                   0       0    0  ...                  26   \n",
       "3                   0       0    0  ...                 255   \n",
       "4                   0       0    0  ...                 255   \n",
       "...               ...     ...  ...  ...                 ...   \n",
       "25187               0       0    0  ...                   7   \n",
       "25188               0       0    0  ...                  39   \n",
       "25189               0       0    0  ...                  13   \n",
       "25190               0       0    0  ...                  20   \n",
       "25191               0       0    0  ...                  49   \n",
       "\n",
       "       dst_host_same_srv_rate  dst_host_diff_srv_rate  \\\n",
       "0                        0.17                    0.03   \n",
       "1                        0.00                    0.60   \n",
       "2                        0.10                    0.05   \n",
       "3                        1.00                    0.00   \n",
       "4                        1.00                    0.00   \n",
       "...                       ...                     ...   \n",
       "25187                    0.03                    0.06   \n",
       "25188                    1.00                    0.00   \n",
       "25189                    0.05                    0.07   \n",
       "25190                    0.08                    0.06   \n",
       "25191                    0.19                    0.03   \n",
       "\n",
       "       dst_host_same_src_port_rate  dst_host_srv_diff_host_rate  \\\n",
       "0                             0.17                         0.00   \n",
       "1                             0.88                         0.00   \n",
       "2                             0.00                         0.00   \n",
       "3                             0.03                         0.04   \n",
       "4                             0.00                         0.00   \n",
       "...                            ...                          ...   \n",
       "25187                         0.00                         0.00   \n",
       "25188                         1.00                         0.18   \n",
       "25189                         0.00                         0.00   \n",
       "25190                         0.00                         0.00   \n",
       "25191                         0.01                         0.00   \n",
       "\n",
       "       dst_host_serror_rate  dst_host_srv_serror_rate  dst_host_rerror_rate  \\\n",
       "0                      0.00                      0.00                  0.05   \n",
       "1                      0.00                      0.00                  0.00   \n",
       "2                      1.00                      1.00                  0.00   \n",
       "3                      0.03                      0.01                  0.00   \n",
       "4                      0.00                      0.00                  0.00   \n",
       "...                     ...                       ...                   ...   \n",
       "25187                  0.00                      0.00                  1.00   \n",
       "25188                  0.00                      0.00                  0.00   \n",
       "25189                  0.00                      0.00                  1.00   \n",
       "25190                  1.00                      1.00                  0.00   \n",
       "25191                  1.00                      1.00                  0.00   \n",
       "\n",
       "       dst_host_srv_rerror_rate    class  \n",
       "0                          0.00   normal  \n",
       "1                          0.00   normal  \n",
       "2                          0.00  anomaly  \n",
       "3                          0.01   normal  \n",
       "4                          0.00   normal  \n",
       "...                         ...      ...  \n",
       "25187                      1.00  anomaly  \n",
       "25188                      0.00  anomaly  \n",
       "25189                      1.00  anomaly  \n",
       "25190                      0.00  anomaly  \n",
       "25191                      0.00  anomaly  \n",
       "\n",
       "[25192 rows x 42 columns]"
      ]
     },
     "execution_count": 503,
     "metadata": {},
     "output_type": "execute_result"
    }
   ],
   "source": [
    "train_data_df"
   ]
  },
  {
   "cell_type": "code",
   "execution_count": 6,
   "id": "69419871-0443-46bb-ad35-1577e2842b56",
   "metadata": {
    "executionInfo": {
     "elapsed": 13,
     "status": "ok",
     "timestamp": 1678487431110,
     "user": {
      "displayName": "Venkata Sai Sri Batchu",
      "userId": "01018547047748441378"
     },
     "user_tz": 480
    },
    "id": "69419871-0443-46bb-ad35-1577e2842b56",
    "tags": []
   },
   "outputs": [],
   "source": [
    "train_data_df = train_data_df[['duration', 'protocol_type', 'service', 'flag', 'src_bytes', 'dst_bytes','count','srv_count','logged_in', 'class']]"
   ]
  },
  {
   "cell_type": "code",
   "execution_count": 7,
   "id": "c90d0bd5-ff62-4cf3-845a-4812dd06f716",
   "metadata": {
    "colab": {
     "base_uri": "https://localhost:8080/",
     "height": 300
    },
    "executionInfo": {
     "elapsed": 12,
     "status": "ok",
     "timestamp": 1678487431110,
     "user": {
      "displayName": "Venkata Sai Sri Batchu",
      "userId": "01018547047748441378"
     },
     "user_tz": 480
    },
    "id": "c90d0bd5-ff62-4cf3-845a-4812dd06f716",
    "outputId": "d1854611-0141-4bb2-9eef-dd6250ee7f75",
    "tags": []
   },
   "outputs": [
    {
     "data": {
      "text/html": [
       "<div>\n",
       "<style scoped>\n",
       "    .dataframe tbody tr th:only-of-type {\n",
       "        vertical-align: middle;\n",
       "    }\n",
       "\n",
       "    .dataframe tbody tr th {\n",
       "        vertical-align: top;\n",
       "    }\n",
       "\n",
       "    .dataframe thead th {\n",
       "        text-align: right;\n",
       "    }\n",
       "</style>\n",
       "<table border=\"1\" class=\"dataframe\">\n",
       "  <thead>\n",
       "    <tr style=\"text-align: right;\">\n",
       "      <th></th>\n",
       "      <th>duration</th>\n",
       "      <th>src_bytes</th>\n",
       "      <th>dst_bytes</th>\n",
       "      <th>count</th>\n",
       "      <th>srv_count</th>\n",
       "      <th>logged_in</th>\n",
       "    </tr>\n",
       "  </thead>\n",
       "  <tbody>\n",
       "    <tr>\n",
       "      <th>count</th>\n",
       "      <td>25192.000000</td>\n",
       "      <td>2.519200e+04</td>\n",
       "      <td>2.519200e+04</td>\n",
       "      <td>25192.000000</td>\n",
       "      <td>25192.000000</td>\n",
       "      <td>25192.000000</td>\n",
       "    </tr>\n",
       "    <tr>\n",
       "      <th>mean</th>\n",
       "      <td>305.054104</td>\n",
       "      <td>2.433063e+04</td>\n",
       "      <td>3.491847e+03</td>\n",
       "      <td>84.591180</td>\n",
       "      <td>27.698754</td>\n",
       "      <td>0.394768</td>\n",
       "    </tr>\n",
       "    <tr>\n",
       "      <th>std</th>\n",
       "      <td>2686.555640</td>\n",
       "      <td>2.410805e+06</td>\n",
       "      <td>8.883072e+04</td>\n",
       "      <td>114.673451</td>\n",
       "      <td>72.468242</td>\n",
       "      <td>0.488811</td>\n",
       "    </tr>\n",
       "    <tr>\n",
       "      <th>min</th>\n",
       "      <td>0.000000</td>\n",
       "      <td>0.000000e+00</td>\n",
       "      <td>0.000000e+00</td>\n",
       "      <td>1.000000</td>\n",
       "      <td>1.000000</td>\n",
       "      <td>0.000000</td>\n",
       "    </tr>\n",
       "    <tr>\n",
       "      <th>25%</th>\n",
       "      <td>0.000000</td>\n",
       "      <td>0.000000e+00</td>\n",
       "      <td>0.000000e+00</td>\n",
       "      <td>2.000000</td>\n",
       "      <td>2.000000</td>\n",
       "      <td>0.000000</td>\n",
       "    </tr>\n",
       "    <tr>\n",
       "      <th>50%</th>\n",
       "      <td>0.000000</td>\n",
       "      <td>4.400000e+01</td>\n",
       "      <td>0.000000e+00</td>\n",
       "      <td>14.000000</td>\n",
       "      <td>8.000000</td>\n",
       "      <td>0.000000</td>\n",
       "    </tr>\n",
       "    <tr>\n",
       "      <th>75%</th>\n",
       "      <td>0.000000</td>\n",
       "      <td>2.790000e+02</td>\n",
       "      <td>5.302500e+02</td>\n",
       "      <td>144.000000</td>\n",
       "      <td>18.000000</td>\n",
       "      <td>1.000000</td>\n",
       "    </tr>\n",
       "    <tr>\n",
       "      <th>max</th>\n",
       "      <td>42862.000000</td>\n",
       "      <td>3.817091e+08</td>\n",
       "      <td>5.151385e+06</td>\n",
       "      <td>511.000000</td>\n",
       "      <td>511.000000</td>\n",
       "      <td>1.000000</td>\n",
       "    </tr>\n",
       "  </tbody>\n",
       "</table>\n",
       "</div>"
      ],
      "text/plain": [
       "           duration     src_bytes     dst_bytes         count     srv_count  \\\n",
       "count  25192.000000  2.519200e+04  2.519200e+04  25192.000000  25192.000000   \n",
       "mean     305.054104  2.433063e+04  3.491847e+03     84.591180     27.698754   \n",
       "std     2686.555640  2.410805e+06  8.883072e+04    114.673451     72.468242   \n",
       "min        0.000000  0.000000e+00  0.000000e+00      1.000000      1.000000   \n",
       "25%        0.000000  0.000000e+00  0.000000e+00      2.000000      2.000000   \n",
       "50%        0.000000  4.400000e+01  0.000000e+00     14.000000      8.000000   \n",
       "75%        0.000000  2.790000e+02  5.302500e+02    144.000000     18.000000   \n",
       "max    42862.000000  3.817091e+08  5.151385e+06    511.000000    511.000000   \n",
       "\n",
       "          logged_in  \n",
       "count  25192.000000  \n",
       "mean       0.394768  \n",
       "std        0.488811  \n",
       "min        0.000000  \n",
       "25%        0.000000  \n",
       "50%        0.000000  \n",
       "75%        1.000000  \n",
       "max        1.000000  "
      ]
     },
     "execution_count": 7,
     "metadata": {},
     "output_type": "execute_result"
    }
   ],
   "source": [
    "train_data_df.describe()"
   ]
  },
  {
   "cell_type": "code",
   "execution_count": 8,
   "id": "c6581080-a532-4c20-bd50-8d8194735730",
   "metadata": {
    "colab": {
     "base_uri": "https://localhost:8080/"
    },
    "executionInfo": {
     "elapsed": 12,
     "status": "ok",
     "timestamp": 1678487431110,
     "user": {
      "displayName": "Venkata Sai Sri Batchu",
      "userId": "01018547047748441378"
     },
     "user_tz": 480
    },
    "id": "c6581080-a532-4c20-bd50-8d8194735730",
    "outputId": "a20a9595-af15-4a05-de53-92d10f59ed5d",
    "tags": []
   },
   "outputs": [
    {
     "data": {
      "text/plain": [
       "normal     13449\n",
       "anomaly    11743\n",
       "Name: class, dtype: int64"
      ]
     },
     "execution_count": 8,
     "metadata": {},
     "output_type": "execute_result"
    }
   ],
   "source": [
    "train_data_df['class'].value_counts()"
   ]
  },
  {
   "cell_type": "markdown",
   "id": "750bc57b-45a7-4fe2-ac2e-54452a49c5af",
   "metadata": {},
   "source": [
    "Feature Engineering"
   ]
  },
  {
   "cell_type": "markdown",
   "id": "dc7fd2ab-6a2f-46d1-8a95-a95286d87600",
   "metadata": {},
   "source": [
    "protocol_type"
   ]
  },
  {
   "cell_type": "code",
   "execution_count": 9,
   "id": "dbf49456-ccea-469c-b60c-486ef63364f7",
   "metadata": {
    "colab": {
     "base_uri": "https://localhost:8080/"
    },
    "executionInfo": {
     "elapsed": 12513,
     "status": "ok",
     "timestamp": 1678487443614,
     "user": {
      "displayName": "Venkata Sai Sri Batchu",
      "userId": "01018547047748441378"
     },
     "user_tz": 480
    },
    "id": "dbf49456-ccea-469c-b60c-486ef63364f7",
    "outputId": "e61a4315-a9d9-400f-ccc1-135a162b0784",
    "tags": []
   },
   "outputs": [],
   "source": [
    "# convert protocol_type column to numerical values\n",
    "for i in range(len(train_data_df.protocol_type)):\n",
    "    if train_data_df.protocol_type[i] == 'tcp':\n",
    "        train_data_df.loc[i, \"protocol_type_n\"] = 0\n",
    "        continue\n",
    "    if train_data_df.protocol_type[i] == 'udp':\n",
    "        train_data_df.loc[i, \"protocol_type_n\"] = 1\n",
    "        continue\n",
    "    if train_data_df.protocol_type[i] == 'icmp':\n",
    "        train_data_df.loc[i, \"protocol_type_n\"] = 2\n",
    "        continue"
   ]
  },
  {
   "cell_type": "code",
   "execution_count": 10,
   "id": "f746a803-637b-4a78-a0c9-1a78ee410161",
   "metadata": {
    "colab": {
     "base_uri": "https://localhost:8080/"
    },
    "executionInfo": {
     "elapsed": 17,
     "status": "ok",
     "timestamp": 1678487443615,
     "user": {
      "displayName": "Venkata Sai Sri Batchu",
      "userId": "01018547047748441378"
     },
     "user_tz": 480
    },
    "id": "f746a803-637b-4a78-a0c9-1a78ee410161",
    "outputId": "b67ef521-1cb3-402e-e810-d9123593801f",
    "tags": []
   },
   "outputs": [
    {
     "data": {
      "text/plain": [
       "array([0., 1., 2.])"
      ]
     },
     "execution_count": 10,
     "metadata": {},
     "output_type": "execute_result"
    }
   ],
   "source": [
    "train_data_df.protocol_type_n.unique()"
   ]
  },
  {
   "cell_type": "markdown",
   "id": "1ef6f3f2-1f53-48c2-8a3d-4af109e7d54f",
   "metadata": {
    "tags": []
   },
   "source": [
    "service"
   ]
  },
  {
   "cell_type": "code",
   "execution_count": 12,
   "id": "a8141264-84bb-46ae-8493-4512699e6d62",
   "metadata": {
    "colab": {
     "base_uri": "https://localhost:8080/"
    },
    "executionInfo": {
     "elapsed": 14,
     "status": "ok",
     "timestamp": 1678487443615,
     "user": {
      "displayName": "Venkata Sai Sri Batchu",
      "userId": "01018547047748441378"
     },
     "user_tz": 480
    },
    "id": "a8141264-84bb-46ae-8493-4512699e6d62",
    "outputId": "05359cb6-b64b-4fc7-cb6c-7af0fdab4b9c",
    "tags": []
   },
   "outputs": [
    {
     "name": "stdout",
     "output_type": "stream",
     "text": [
      "['ftp_data' 'other' 'private' 'http' 'remote_job' 'name' 'netbios_ns'\n",
      " 'eco_i' 'mtp' 'telnet' 'finger' 'domain_u' 'supdup' 'uucp_path' 'Z39_50'\n",
      " 'smtp' 'csnet_ns' 'uucp' 'netbios_dgm' 'urp_i' 'auth' 'domain' 'ftp'\n",
      " 'bgp' 'ldap' 'ecr_i' 'gopher' 'vmnet' 'systat' 'http_443' 'efs' 'whois'\n",
      " 'imap4' 'iso_tsap' 'echo' 'klogin' 'link' 'sunrpc' 'login' 'kshell'\n",
      " 'sql_net' 'time' 'hostnames' 'exec' 'ntp_u' 'discard' 'nntp' 'courier'\n",
      " 'ctf' 'ssh' 'daytime' 'shell' 'netstat' 'pop_3' 'nnsp' 'IRC' 'pop_2'\n",
      " 'printer' 'tim_i' 'pm_dump' 'red_i' 'netbios_ssn' 'rje' 'X11' 'urh_i'\n",
      " 'http_8001']\n"
     ]
    }
   ],
   "source": [
    "print(train_data_df.service.unique())"
   ]
  },
  {
   "cell_type": "code",
   "execution_count": 13,
   "id": "6c6be562-07a7-4b02-82ec-ae2b5731c741",
   "metadata": {
    "colab": {
     "base_uri": "https://localhost:8080/"
    },
    "executionInfo": {
     "elapsed": 13,
     "status": "ok",
     "timestamp": 1678487443615,
     "user": {
      "displayName": "Venkata Sai Sri Batchu",
      "userId": "01018547047748441378"
     },
     "user_tz": 480
    },
    "id": "6c6be562-07a7-4b02-82ec-ae2b5731c741",
    "outputId": "acadee81-4c01-40a4-e4e2-882043ba157e",
    "tags": []
   },
   "outputs": [
    {
     "name": "stdout",
     "output_type": "stream",
     "text": [
      "{'ftp_data': 0, 'other': 1, 'private': 2, 'http': 3, 'remote_job': 4, 'name': 5, 'netbios_ns': 6, 'eco_i': 7, 'mtp': 8, 'telnet': 9, 'finger': 10, 'domain_u': 11, 'supdup': 12, 'uucp_path': 13, 'Z39_50': 14, 'smtp': 15, 'csnet_ns': 16, 'uucp': 17, 'netbios_dgm': 18, 'urp_i': 19, 'auth': 20, 'domain': 21, 'ftp': 22, 'bgp': 23, 'ldap': 24, 'ecr_i': 25, 'gopher': 26, 'vmnet': 27, 'systat': 28, 'http_443': 29, 'efs': 30, 'whois': 31, 'imap4': 32, 'iso_tsap': 33, 'echo': 34, 'klogin': 35, 'link': 36, 'sunrpc': 37, 'login': 38, 'kshell': 39, 'sql_net': 40, 'time': 41, 'hostnames': 42, 'exec': 43, 'ntp_u': 44, 'discard': 45, 'nntp': 46, 'courier': 47, 'ctf': 48, 'ssh': 49, 'daytime': 50, 'shell': 51, 'netstat': 52, 'pop_3': 53, 'nnsp': 54, 'IRC': 55, 'pop_2': 56, 'printer': 57, 'tim_i': 58, 'pm_dump': 59, 'red_i': 60, 'netbios_ssn': 61, 'rje': 62, 'X11': 63, 'urh_i': 64, 'http_8001': 65}\n"
     ]
    }
   ],
   "source": [
    "service_d = {}\n",
    "id = 0\n",
    "for ft in train_data_df.service:\n",
    "    if ft not in service_d:\n",
    "        service_d[ft] = id\n",
    "        id += 1\n",
    "print(service_d)"
   ]
  },
  {
   "cell_type": "code",
   "execution_count": 14,
   "id": "75396066-1a86-4080-aee1-fa84a29043f4",
   "metadata": {
    "executionInfo": {
     "elapsed": 6012,
     "status": "ok",
     "timestamp": 1678487449615,
     "user": {
      "displayName": "Venkata Sai Sri Batchu",
      "userId": "01018547047748441378"
     },
     "user_tz": 480
    },
    "id": "75396066-1a86-4080-aee1-fa84a29043f4",
    "tags": []
   },
   "outputs": [],
   "source": [
    "for i, e in enumerate(train_data.service):\n",
    "    train_data_df.loc[i, \"service_n\"] = service_d[e]"
   ]
  },
  {
   "cell_type": "code",
   "execution_count": 15,
   "id": "557af121-abd6-4f7f-8c73-482fccd24f0e",
   "metadata": {
    "colab": {
     "base_uri": "https://localhost:8080/"
    },
    "executionInfo": {
     "elapsed": 25,
     "status": "ok",
     "timestamp": 1678487449616,
     "user": {
      "displayName": "Venkata Sai Sri Batchu",
      "userId": "01018547047748441378"
     },
     "user_tz": 480
    },
    "id": "557af121-abd6-4f7f-8c73-482fccd24f0e",
    "outputId": "47c2801f-7d0c-4d19-bc05-bc2caa07d0a4",
    "tags": []
   },
   "outputs": [
    {
     "data": {
      "text/plain": [
       "array([ 0.,  1.,  2.,  3.,  4.,  5.,  6.,  7.,  8.,  9., 10., 11., 12.,\n",
       "       13., 14., 15., 16., 17., 18., 19., 20., 21., 22., 23., 24., 25.,\n",
       "       26., 27., 28., 29., 30., 31., 32., 33., 34., 35., 36., 37., 38.,\n",
       "       39., 40., 41., 42., 43., 44., 45., 46., 47., 48., 49., 50., 51.,\n",
       "       52., 53., 54., 55., 56., 57., 58., 59., 60., 61., 62., 63., 64.,\n",
       "       65.])"
      ]
     },
     "execution_count": 15,
     "metadata": {},
     "output_type": "execute_result"
    }
   ],
   "source": [
    "train_data_df.service_n.unique()"
   ]
  },
  {
   "cell_type": "markdown",
   "id": "870cadfd-b396-4f17-9e6c-2492aa01620a",
   "metadata": {},
   "source": [
    "flag"
   ]
  },
  {
   "cell_type": "code",
   "execution_count": 16,
   "id": "2fb4c860-24a4-4fc2-8dc7-ba22fb4c4adf",
   "metadata": {
    "colab": {
     "base_uri": "https://localhost:8080/"
    },
    "executionInfo": {
     "elapsed": 23,
     "status": "ok",
     "timestamp": 1678487449616,
     "user": {
      "displayName": "Venkata Sai Sri Batchu",
      "userId": "01018547047748441378"
     },
     "user_tz": 480
    },
    "id": "2fb4c860-24a4-4fc2-8dc7-ba22fb4c4adf",
    "outputId": "157e8320-e429-4526-84b6-777dc9cd3b1a",
    "tags": []
   },
   "outputs": [
    {
     "name": "stdout",
     "output_type": "stream",
     "text": [
      "['SF' 'S0' 'REJ' 'RSTR' 'SH' 'RSTO' 'S1' 'RSTOS0' 'S3' 'S2' 'OTH']\n"
     ]
    }
   ],
   "source": [
    "print(train_data_df.flag.unique())"
   ]
  },
  {
   "cell_type": "code",
   "execution_count": 17,
   "id": "744d6705-4758-4cb2-893f-ba462380ade5",
   "metadata": {
    "executionInfo": {
     "elapsed": 20,
     "status": "ok",
     "timestamp": 1678487449616,
     "user": {
      "displayName": "Venkata Sai Sri Batchu",
      "userId": "01018547047748441378"
     },
     "user_tz": 480
    },
    "id": "744d6705-4758-4cb2-893f-ba462380ade5",
    "tags": []
   },
   "outputs": [],
   "source": [
    "flag_d = {}\n",
    "id = 0\n",
    "for ft in train_data_df.flag:\n",
    "    if ft not in flag_d:\n",
    "        flag_d[ft] = id\n",
    "        id += 1"
   ]
  },
  {
   "cell_type": "code",
   "execution_count": 18,
   "id": "f04ae049-af47-4f87-a6f2-24ef6e41a484",
   "metadata": {
    "executionInfo": {
     "elapsed": 6034,
     "status": "ok",
     "timestamp": 1678487455630,
     "user": {
      "displayName": "Venkata Sai Sri Batchu",
      "userId": "01018547047748441378"
     },
     "user_tz": 480
    },
    "id": "f04ae049-af47-4f87-a6f2-24ef6e41a484",
    "tags": []
   },
   "outputs": [],
   "source": [
    "for i, e in enumerate(train_data_df.flag):\n",
    "    train_data_df.loc[i, \"flag_n\"] = flag_d[e]"
   ]
  },
  {
   "cell_type": "code",
   "execution_count": 19,
   "id": "8874f6aa-01be-490c-8d04-0483a8295e35",
   "metadata": {
    "colab": {
     "base_uri": "https://localhost:8080/"
    },
    "executionInfo": {
     "elapsed": 4,
     "status": "ok",
     "timestamp": 1678487455631,
     "user": {
      "displayName": "Venkata Sai Sri Batchu",
      "userId": "01018547047748441378"
     },
     "user_tz": 480
    },
    "id": "8874f6aa-01be-490c-8d04-0483a8295e35",
    "outputId": "68143766-594a-474a-cc9b-558cca65d8d8",
    "tags": []
   },
   "outputs": [
    {
     "data": {
      "text/plain": [
       "array([ 0.,  1.,  2.,  3.,  4.,  5.,  6.,  7.,  8.,  9., 10.])"
      ]
     },
     "execution_count": 19,
     "metadata": {},
     "output_type": "execute_result"
    }
   ],
   "source": [
    "train_data_df.flag_n.unique()"
   ]
  },
  {
   "cell_type": "markdown",
   "id": "fa8f4dfd-c236-4eb5-95d9-8b4c5f229227",
   "metadata": {},
   "source": [
    "class"
   ]
  },
  {
   "cell_type": "code",
   "execution_count": 22,
   "id": "4d9f944d-f0be-4637-89c4-f45b4662d3c3",
   "metadata": {
    "executionInfo": {
     "elapsed": 13631,
     "status": "ok",
     "timestamp": 1678487469259,
     "user": {
      "displayName": "Venkata Sai Sri Batchu",
      "userId": "01018547047748441378"
     },
     "user_tz": 480
    },
    "id": "4d9f944d-f0be-4637-89c4-f45b4662d3c3",
    "tags": []
   },
   "outputs": [],
   "source": [
    "for i in range(len(train_data)):\n",
    "    if train_data_df['class'][i] == 'normal':\n",
    "        train_data_df.loc[i, 'class_n'] = 0\n",
    "    \n",
    "    if train_data_df['class'][i] == 'anomaly':\n",
    "        train_data_df.loc[i, 'class_n'] = 1"
   ]
  },
  {
   "cell_type": "markdown",
   "id": "4331664e-c54f-4aa2-93fe-54c44519edf7",
   "metadata": {},
   "source": [
    "train-to-test split"
   ]
  },
  {
   "cell_type": "code",
   "execution_count": 23,
   "id": "5iNqnyzyNi7f",
   "metadata": {
    "executionInfo": {
     "elapsed": 33,
     "status": "ok",
     "timestamp": 1678487469259,
     "user": {
      "displayName": "Venkata Sai Sri Batchu",
      "userId": "01018547047748441378"
     },
     "user_tz": 480
    },
    "id": "5iNqnyzyNi7f",
    "tags": []
   },
   "outputs": [],
   "source": [
    "from sklearn.model_selection import train_test_split"
   ]
  },
  {
   "cell_type": "code",
   "execution_count": 24,
   "id": "CS0AcqYROQ5K",
   "metadata": {
    "executionInfo": {
     "elapsed": 32,
     "status": "ok",
     "timestamp": 1678487469260,
     "user": {
      "displayName": "Venkata Sai Sri Batchu",
      "userId": "01018547047748441378"
     },
     "user_tz": 480
    },
    "id": "CS0AcqYROQ5K",
    "tags": []
   },
   "outputs": [],
   "source": [
    "X=train_data_df[['duration', 'protocol_type_n', 'service_n', 'flag_n', 'src_bytes', 'dst_bytes','count','srv_count','logged_in']]\n",
    "#Y=train_data_df[['class_n']]"
   ]
  },
  {
   "cell_type": "code",
   "execution_count": 25,
   "id": "JtLChB9kNBoE",
   "metadata": {
    "executionInfo": {
     "elapsed": 31,
     "status": "ok",
     "timestamp": 1678487469260,
     "user": {
      "displayName": "Venkata Sai Sri Batchu",
      "userId": "01018547047748441378"
     },
     "user_tz": 480
    },
    "id": "JtLChB9kNBoE",
    "tags": []
   },
   "outputs": [],
   "source": [
    "train_x, test_x, train_y, test_y = train_test_split(X,train_data_df['class_n'], test_size = 0.30,stratify=train_data_df['class_n'])"
   ]
  },
  {
   "cell_type": "code",
   "execution_count": 26,
   "id": "13c0bb32-3e17-4d4a-b3a0-2ac98f31f296",
   "metadata": {
    "colab": {
     "base_uri": "https://localhost:8080/"
    },
    "executionInfo": {
     "elapsed": 31,
     "status": "ok",
     "timestamp": 1678487469260,
     "user": {
      "displayName": "Venkata Sai Sri Batchu",
      "userId": "01018547047748441378"
     },
     "user_tz": 480
    },
    "id": "13c0bb32-3e17-4d4a-b3a0-2ac98f31f296",
    "outputId": "319f7fa4-1aaf-4360-f41d-d3dfc773395e",
    "tags": []
   },
   "outputs": [
    {
     "data": {
      "text/plain": [
       "(25192, 42)"
      ]
     },
     "execution_count": 26,
     "metadata": {},
     "output_type": "execute_result"
    }
   ],
   "source": [
    "train_data.shape"
   ]
  },
  {
   "cell_type": "code",
   "execution_count": 27,
   "id": "b69d31d2-d2d3-4806-b0e2-11d4b64b46b7",
   "metadata": {
    "colab": {
     "base_uri": "https://localhost:8080/"
    },
    "executionInfo": {
     "elapsed": 27,
     "status": "ok",
     "timestamp": 1678487469260,
     "user": {
      "displayName": "Venkata Sai Sri Batchu",
      "userId": "01018547047748441378"
     },
     "user_tz": 480
    },
    "id": "b69d31d2-d2d3-4806-b0e2-11d4b64b46b7",
    "outputId": "4aed3f8b-9fbb-45e4-bb2d-089b7e6ff21d",
    "tags": []
   },
   "outputs": [
    {
     "data": {
      "text/plain": [
       "(17634, 9)"
      ]
     },
     "execution_count": 27,
     "metadata": {},
     "output_type": "execute_result"
    }
   ],
   "source": [
    "train_x.shape"
   ]
  },
  {
   "cell_type": "code",
   "execution_count": 28,
   "id": "172682b5-3e5f-4c01-a68a-a70fbd2ce97e",
   "metadata": {
    "colab": {
     "base_uri": "https://localhost:8080/"
    },
    "executionInfo": {
     "elapsed": 25,
     "status": "ok",
     "timestamp": 1678487469260,
     "user": {
      "displayName": "Venkata Sai Sri Batchu",
      "userId": "01018547047748441378"
     },
     "user_tz": 480
    },
    "id": "172682b5-3e5f-4c01-a68a-a70fbd2ce97e",
    "outputId": "c787ce65-80b4-44bb-cde0-c1ac19598e54",
    "tags": []
   },
   "outputs": [
    {
     "data": {
      "text/plain": [
       "(7558, 9)"
      ]
     },
     "execution_count": 28,
     "metadata": {},
     "output_type": "execute_result"
    }
   ],
   "source": [
    "test_x.shape"
   ]
  },
  {
   "cell_type": "code",
   "execution_count": 29,
   "id": "YSbPJae6Ptsv",
   "metadata": {
    "colab": {
     "base_uri": "https://localhost:8080/"
    },
    "executionInfo": {
     "elapsed": 23,
     "status": "ok",
     "timestamp": 1678487469260,
     "user": {
      "displayName": "Venkata Sai Sri Batchu",
      "userId": "01018547047748441378"
     },
     "user_tz": 480
    },
    "id": "YSbPJae6Ptsv",
    "outputId": "60d46c8a-93d8-481d-91b2-538ad5613006",
    "tags": []
   },
   "outputs": [
    {
     "data": {
      "text/plain": [
       "(17634,)"
      ]
     },
     "execution_count": 29,
     "metadata": {},
     "output_type": "execute_result"
    }
   ],
   "source": [
    "train_y.shape"
   ]
  },
  {
   "cell_type": "code",
   "execution_count": 30,
   "id": "d2d84532-3c29-42f8-8b08-d01fd41c7a93",
   "metadata": {
    "colab": {
     "base_uri": "https://localhost:8080/"
    },
    "executionInfo": {
     "elapsed": 23,
     "status": "ok",
     "timestamp": 1678487469261,
     "user": {
      "displayName": "Venkata Sai Sri Batchu",
      "userId": "01018547047748441378"
     },
     "user_tz": 480
    },
    "id": "d2d84532-3c29-42f8-8b08-d01fd41c7a93",
    "outputId": "b92b7202-d661-4bc8-e498-bb99da230e58",
    "tags": []
   },
   "outputs": [
    {
     "data": {
      "text/plain": [
       "0.0    9414\n",
       "1.0    8220\n",
       "Name: class_n, dtype: int64"
      ]
     },
     "execution_count": 30,
     "metadata": {},
     "output_type": "execute_result"
    }
   ],
   "source": [
    "train_y.value_counts()"
   ]
  },
  {
   "cell_type": "code",
   "execution_count": 31,
   "id": "78295abf-42f0-4582-b613-992a55d9eb42",
   "metadata": {
    "colab": {
     "base_uri": "https://localhost:8080/",
     "height": 313
    },
    "executionInfo": {
     "elapsed": 360,
     "status": "ok",
     "timestamp": 1678487469599,
     "user": {
      "displayName": "Venkata Sai Sri Batchu",
      "userId": "01018547047748441378"
     },
     "user_tz": 480
    },
    "id": "78295abf-42f0-4582-b613-992a55d9eb42",
    "outputId": "44cc3f86-793f-4dc0-cb80-cc2e91f769f2",
    "tags": []
   },
   "outputs": [
    {
     "data": {
      "text/plain": [
       "Text(0, 0.5, 'Frequency')"
      ]
     },
     "execution_count": 31,
     "metadata": {},
     "output_type": "execute_result"
    },
    {
     "data": {
      "image/png": "[encoded data removed]",
      "text/plain": [
       "<Figure size 640x480 with 1 Axes>"
      ]
     },
     "metadata": {},
     "output_type": "display_data"
    }
   ],
   "source": [
    "label_l = ['Normal', 'Anomaly']\n",
    "classes = pd.value_counts(train_y, sort = True)\n",
    "classes.plot(kind = 'bar', rot = 0, color = \"green\")\n",
    "plt.title(\"Network Traffic Distribution (Training Set)\")\n",
    "plt.xticks(range(2), label_l)\n",
    "plt.xlabel(\"Class\")\n",
    "plt.ylabel(\"Frequency\")"
   ]
  },
  {
   "cell_type": "code",
   "execution_count": 32,
   "id": "d50d62a7-3ee2-4114-a3aa-350e8d801a5b",
   "metadata": {
    "colab": {
     "base_uri": "https://localhost:8080/"
    },
    "executionInfo": {
     "elapsed": 18,
     "status": "ok",
     "timestamp": 1678487469599,
     "user": {
      "displayName": "Venkata Sai Sri Batchu",
      "userId": "01018547047748441378"
     },
     "user_tz": 480
    },
    "id": "d50d62a7-3ee2-4114-a3aa-350e8d801a5b",
    "outputId": "d82e392b-46d6-468e-c376-a8ce422fff79",
    "tags": []
   },
   "outputs": [
    {
     "data": {
      "text/plain": [
       "0.0    4035\n",
       "1.0    3523\n",
       "Name: class_n, dtype: int64"
      ]
     },
     "execution_count": 32,
     "metadata": {},
     "output_type": "execute_result"
    }
   ],
   "source": [
    "test_y.value_counts()"
   ]
  },
  {
   "cell_type": "code",
   "execution_count": 34,
   "id": "1ccecb72-c723-4273-a672-506cb99e3668",
   "metadata": {
    "colab": {
     "base_uri": "https://localhost:8080/",
     "height": 313
    },
    "executionInfo": {
     "elapsed": 10,
     "status": "ok",
     "timestamp": 1678487469600,
     "user": {
      "displayName": "Venkata Sai Sri Batchu",
      "userId": "01018547047748441378"
     },
     "user_tz": 480
    },
    "id": "1ccecb72-c723-4273-a672-506cb99e3668",
    "outputId": "3cfddc98-e9ba-431c-a87a-f6019a1c693b",
    "tags": []
   },
   "outputs": [
    {
     "data": {
      "text/plain": [
       "Text(0, 0.5, 'Frequency')"
      ]
     },
     "execution_count": 34,
     "metadata": {},
     "output_type": "execute_result"
    },
    {
     "data": {
      "image/png": "[encoded data removed]",
      "text/plain": [
       "<Figure size 640x480 with 1 Axes>"
      ]
     },
     "metadata": {},
     "output_type": "display_data"
    }
   ],
   "source": [
    "labels = ['Normal', 'Anomaly']\n",
    "classes = pd.value_counts(test_y, sort = True)\n",
    "classes.plot(kind = 'bar', rot = 0, color = \"pink\")\n",
    "plt.title(\"Network Traffic Distribution (Testing Set)\")\n",
    "plt.xticks(range(2), labels)\n",
    "plt.xlabel(\"Class\")\n",
    "plt.ylabel(\"Frequency\")"
   ]
  },
  {
   "cell_type": "code",
   "execution_count": 35,
   "id": "f1c86258-fa8b-43c5-a76e-061ab7c39e73",
   "metadata": {
    "colab": {
     "base_uri": "https://localhost:8080/"
    },
    "executionInfo": {
     "elapsed": 7,
     "status": "ok",
     "timestamp": 1678487469600,
     "user": {
      "displayName": "Venkata Sai Sri Batchu",
      "userId": "01018547047748441378"
     },
     "user_tz": 480
    },
    "id": "f1c86258-fa8b-43c5-a76e-061ab7c39e73",
    "outputId": "2f876ea4-8efe-463c-ca6b-fcba2263c152",
    "tags": []
   },
   "outputs": [
    {
     "name": "stdout",
     "output_type": "stream",
     "text": [
      "0\n"
     ]
    }
   ],
   "source": [
    "print(train_x.isnull().any().sum())"
   ]
  },
  {
   "cell_type": "code",
   "execution_count": 36,
   "id": "70f2d2d2-042a-43e1-9df2-e58b93893e54",
   "metadata": {
    "tags": []
   },
   "outputs": [
    {
     "name": "stdout",
     "output_type": "stream",
     "text": [
      "0\n"
     ]
    }
   ],
   "source": [
    "print(train_y.isnull().any().sum())"
   ]
  },
  {
   "cell_type": "code",
   "execution_count": 39,
   "id": "3375de5d-a339-4404-8b23-67815174e04d",
   "metadata": {
    "tags": []
   },
   "outputs": [
    {
     "name": "stdout",
     "output_type": "stream",
     "text": [
      "0\n"
     ]
    }
   ],
   "source": [
    "print(test_x.isnull().any().sum())"
   ]
  },
  {
   "cell_type": "code",
   "execution_count": 40,
   "id": "41827473-c390-4227-8bf5-26ca4481c320",
   "metadata": {
    "tags": []
   },
   "outputs": [
    {
     "name": "stdout",
     "output_type": "stream",
     "text": [
      "0\n"
     ]
    }
   ],
   "source": [
    "print(test_y.isnull().any().sum())"
   ]
  },
  {
   "cell_type": "markdown",
   "id": "54969dc4-8f43-4879-b269-c74da1c11777",
   "metadata": {},
   "source": [
    "Modeling"
   ]
  },
  {
   "cell_type": "code",
   "execution_count": 41,
   "id": "029a6c3f-9d16-444f-80db-746ba16a3891",
   "metadata": {
    "executionInfo": {
     "elapsed": 1184,
     "status": "ok",
     "timestamp": 1678487470778,
     "user": {
      "displayName": "Venkata Sai Sri Batchu",
      "userId": "01018547047748441378"
     },
     "user_tz": 480
    },
    "id": "029a6c3f-9d16-444f-80db-746ba16a3891",
    "tags": []
   },
   "outputs": [],
   "source": [
    "clf = RandomForestClassifier(max_depth = 7).fit(train_x, train_y)"
   ]
  },
  {
   "cell_type": "code",
   "execution_count": 42,
   "id": "c00236d4-5c6f-42aa-998f-4fcfc3091214",
   "metadata": {
    "executionInfo": {
     "elapsed": 12,
     "status": "ok",
     "timestamp": 1678487470778,
     "user": {
      "displayName": "Venkata Sai Sri Batchu",
      "userId": "01018547047748441378"
     },
     "user_tz": 480
    },
    "id": "c00236d4-5c6f-42aa-998f-4fcfc3091214",
    "tags": []
   },
   "outputs": [
    {
     "name": "stdout",
     "output_type": "stream",
     "text": [
      "[0. 1. 0. ... 0. 1. 0.]\n"
     ]
    }
   ],
   "source": [
    "pred_test_y = clf.predict(test_x)\n",
    "print(pred_test_y)"
   ]
  },
  {
   "cell_type": "code",
   "execution_count": 43,
   "id": "6a6817ee-b736-478b-9bb8-63c9d57b8bbb",
   "metadata": {
    "colab": {
     "base_uri": "https://localhost:8080/"
    },
    "executionInfo": {
     "elapsed": 11,
     "status": "ok",
     "timestamp": 1678487470778,
     "user": {
      "displayName": "Venkata Sai Sri Batchu",
      "userId": "01018547047748441378"
     },
     "user_tz": 480
    },
    "id": "6a6817ee-b736-478b-9bb8-63c9d57b8bbb",
    "outputId": "0aa606af-3090-4673-faac-a9d474fdfb36",
    "tags": []
   },
   "outputs": [
    {
     "data": {
      "text/plain": [
       "0.9857105054247155"
      ]
     },
     "execution_count": 43,
     "metadata": {},
     "output_type": "execute_result"
    }
   ],
   "source": [
    "accuracy_score(test_y, pred_test_y)"
   ]
  },
  {
   "cell_type": "code",
   "execution_count": 44,
   "id": "5XI6CTKHpX7Q",
   "metadata": {
    "colab": {
     "base_uri": "https://localhost:8080/"
    },
    "executionInfo": {
     "elapsed": 290,
     "status": "ok",
     "timestamp": 1678487542009,
     "user": {
      "displayName": "Venkata Sai Sri Batchu",
      "userId": "01018547047748441378"
     },
     "user_tz": 480
    },
    "id": "5XI6CTKHpX7Q",
    "outputId": "d28091b3-baae-4309-cbd0-86e7fb7674c3",
    "tags": []
   },
   "outputs": [
    {
     "name": "stdout",
     "output_type": "stream",
     "text": [
      "Confusion Matrix: \n"
     ]
    },
    {
     "data": {
      "text/plain": [
       "array([[4016,   19],\n",
       "       [  89, 3434]], dtype=int64)"
      ]
     },
     "execution_count": 44,
     "metadata": {},
     "output_type": "execute_result"
    }
   ],
   "source": [
    "from sklearn.metrics import confusion_matrix\n",
    "print(\"Confusion Matrix: \")\n",
    "confusion_matrix(test_y, pred_test_y)"
   ]
  },
  {
   "cell_type": "code",
   "execution_count": null,
   "id": "f62c94a7-e9f3-4dc8-9e1f-c882f1ca0cf5",
   "metadata": {},
   "outputs": [],
   "source": []
  }
 ],
 "metadata": {
  "colab": {
   "provenance": []
  },
  "kernelspec": {
   "display_name": "Python 3 (ipykernel)",
   "language": "python",
   "name": "python3"
  },
  "language_info": {
   "codemirror_mode": {
    "name": "ipython",
    "version": 3
   },
   "file_extension": ".py",
   "mimetype": "text/x-python",
   "name": "python",
   "nbconvert_exporter": "python",
   "pygments_lexer": "ipython3",
   "version": "3.7.4"
  }
 },
 "nbformat": 4,
 "nbformat_minor": 5
}
